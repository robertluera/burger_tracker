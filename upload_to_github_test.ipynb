{
  "nbformat": 4,
  "nbformat_minor": 0,
  "metadata": {
    "colab": {
      "provenance": [],
      "authorship_tag": "ABX9TyNpNmXbhjJE5yCXSlOrA0zV",
      "include_colab_link": true
    },
    "kernelspec": {
      "name": "python3",
      "display_name": "Python 3"
    },
    "language_info": {
      "name": "python"
    }
  },
  "cells": [
    {
      "cell_type": "markdown",
      "metadata": {
        "id": "view-in-github",
        "colab_type": "text"
      },
      "source": [
        "<a href=\"https://colab.research.google.com/github/robertluera/burger_tracker/blob/main/upload_to_github_test.ipynb\" target=\"_parent\"><img src=\"https://colab.research.google.com/assets/colab-badge.svg\" alt=\"Open In Colab\"/></a>"
      ]
    },
    {
      "cell_type": "code",
      "execution_count": 3,
      "metadata": {
        "colab": {
          "base_uri": "https://localhost:8080/"
        },
        "id": "E_T83HufeSco",
        "outputId": "2d68a8e9-6ae8-4de9-fb12-fd6d48085a61"
      },
      "outputs": [
        {
          "output_type": "stream",
          "name": "stdout",
          "text": [
            "\n",
            "\n",
            "So far, 38 burgers have been consumed this year.\n"
          ]
        }
      ],
      "source": [
        "import pandas as pd\n",
        "\n",
        "\n",
        "sheet_id = '1j9OD3wtRJ5XE_yjIt2TZtAHhARXqRtOuIlHdoh9cdrs'\n",
        "\n",
        "sheet_name = 'Burger_Total'\n",
        "\n",
        "url = f'https://docs.google.com/spreadsheets/d/{sheet_id}/gviz/tq?tqx=out:csv&sheet={sheet_name}'\n",
        "# url = f\"https://docs.google.com/spreadsheets/d/{sheet_id}/gviz/tq?tqx=out:csv&sheet={sheet_name}\"\n",
        "df = pd.read_csv(url)\n",
        "\n",
        "total = df.iloc[0,0]\n",
        "\n",
        "print(f'\\n\\nSo far, {total} burgers have been consumed this year.')\n",
        "\n",
        "# adding unique comment to test upload"
      ]
    }
  ]
}